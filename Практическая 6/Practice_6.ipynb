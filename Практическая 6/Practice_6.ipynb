{
 "cells": [
  {
   "cell_type": "code",
   "id": "initial_id",
   "metadata": {
    "collapsed": true,
    "ExecuteTime": {
     "end_time": "2025-04-10T07:15:06.654212Z",
     "start_time": "2025-04-10T07:15:06.651015Z"
    }
   },
   "source": [
    "import pandas as pd\n",
    "import tensorflow_hub as hub\n",
    "import numpy as np\n",
    "from sklearn.cluster import KMeans\n",
    "from sklearn.neighbors import KNeighborsClassifier\n",
    "from sklearn.preprocessing import normalize\n",
    "from sklearn.metrics.pairwise import cosine_similarity\n",
    "\n",
    "import warnings\n",
    "\n",
    "warnings.filterwarnings('ignore')"
   ],
   "outputs": [],
   "execution_count": 32
  },
  {
   "metadata": {
    "ExecuteTime": {
     "end_time": "2025-04-10T07:15:09.467293Z",
     "start_time": "2025-04-10T07:15:06.681547Z"
    }
   },
   "cell_type": "code",
   "source": "df = pd.read_csv('analyst_ratings_processed.csv')",
   "id": "66b2d43b8d6dce81",
   "outputs": [],
   "execution_count": 33
  },
  {
   "metadata": {
    "ExecuteTime": {
     "end_time": "2025-04-10T07:15:09.494728Z",
     "start_time": "2025-04-10T07:15:09.487147Z"
    }
   },
   "cell_type": "code",
   "source": "df.head()",
   "id": "5a2c0e6cd95e5ffe",
   "outputs": [
    {
     "data": {
      "text/plain": [
       "   Unnamed: 0                                              title  \\\n",
       "0         0.0            Stocks That Hit 52-Week Highs On Friday   \n",
       "1         1.0         Stocks That Hit 52-Week Highs On Wednesday   \n",
       "2         2.0                      71 Biggest Movers From Friday   \n",
       "3         3.0       46 Stocks Moving In Friday's Mid-Day Session   \n",
       "4         4.0  B of A Securities Maintains Neutral on Agilent...   \n",
       "\n",
       "                        date stock  \n",
       "0  2020-06-05 10:30:00-04:00     A  \n",
       "1  2020-06-03 10:45:00-04:00     A  \n",
       "2  2020-05-26 04:30:00-04:00     A  \n",
       "3  2020-05-22 12:45:00-04:00     A  \n",
       "4  2020-05-22 11:38:00-04:00     A  "
      ],
      "text/html": [
       "<div>\n",
       "<style scoped>\n",
       "    .dataframe tbody tr th:only-of-type {\n",
       "        vertical-align: middle;\n",
       "    }\n",
       "\n",
       "    .dataframe tbody tr th {\n",
       "        vertical-align: top;\n",
       "    }\n",
       "\n",
       "    .dataframe thead th {\n",
       "        text-align: right;\n",
       "    }\n",
       "</style>\n",
       "<table border=\"1\" class=\"dataframe\">\n",
       "  <thead>\n",
       "    <tr style=\"text-align: right;\">\n",
       "      <th></th>\n",
       "      <th>Unnamed: 0</th>\n",
       "      <th>title</th>\n",
       "      <th>date</th>\n",
       "      <th>stock</th>\n",
       "    </tr>\n",
       "  </thead>\n",
       "  <tbody>\n",
       "    <tr>\n",
       "      <th>0</th>\n",
       "      <td>0.0</td>\n",
       "      <td>Stocks That Hit 52-Week Highs On Friday</td>\n",
       "      <td>2020-06-05 10:30:00-04:00</td>\n",
       "      <td>A</td>\n",
       "    </tr>\n",
       "    <tr>\n",
       "      <th>1</th>\n",
       "      <td>1.0</td>\n",
       "      <td>Stocks That Hit 52-Week Highs On Wednesday</td>\n",
       "      <td>2020-06-03 10:45:00-04:00</td>\n",
       "      <td>A</td>\n",
       "    </tr>\n",
       "    <tr>\n",
       "      <th>2</th>\n",
       "      <td>2.0</td>\n",
       "      <td>71 Biggest Movers From Friday</td>\n",
       "      <td>2020-05-26 04:30:00-04:00</td>\n",
       "      <td>A</td>\n",
       "    </tr>\n",
       "    <tr>\n",
       "      <th>3</th>\n",
       "      <td>3.0</td>\n",
       "      <td>46 Stocks Moving In Friday's Mid-Day Session</td>\n",
       "      <td>2020-05-22 12:45:00-04:00</td>\n",
       "      <td>A</td>\n",
       "    </tr>\n",
       "    <tr>\n",
       "      <th>4</th>\n",
       "      <td>4.0</td>\n",
       "      <td>B of A Securities Maintains Neutral on Agilent...</td>\n",
       "      <td>2020-05-22 11:38:00-04:00</td>\n",
       "      <td>A</td>\n",
       "    </tr>\n",
       "  </tbody>\n",
       "</table>\n",
       "</div>"
      ]
     },
     "execution_count": 34,
     "metadata": {},
     "output_type": "execute_result"
    }
   ],
   "execution_count": 34
  },
  {
   "metadata": {
    "ExecuteTime": {
     "end_time": "2025-04-10T07:15:09.752919Z",
     "start_time": "2025-04-10T07:15:09.576866Z"
    }
   },
   "cell_type": "code",
   "source": "df.info()",
   "id": "933c853512bf06b9",
   "outputs": [
    {
     "name": "stdout",
     "output_type": "stream",
     "text": [
      "<class 'pandas.core.frame.DataFrame'>\n",
      "RangeIndex: 1400469 entries, 0 to 1400468\n",
      "Data columns (total 4 columns):\n",
      " #   Column      Non-Null Count    Dtype  \n",
      "---  ------      --------------    -----  \n",
      " 0   Unnamed: 0  1399180 non-null  float64\n",
      " 1   title       1400469 non-null  object \n",
      " 2   date        1399180 non-null  object \n",
      " 3   stock       1397891 non-null  object \n",
      "dtypes: float64(1), object(3)\n",
      "memory usage: 42.7+ MB\n"
     ]
    }
   ],
   "execution_count": 35
  },
  {
   "metadata": {
    "ExecuteTime": {
     "end_time": "2025-04-10T07:15:09.960407Z",
     "start_time": "2025-04-10T07:15:09.805597Z"
    }
   },
   "cell_type": "code",
   "source": "df.isna().sum()",
   "id": "67b08f4628197b1e",
   "outputs": [
    {
     "data": {
      "text/plain": [
       "Unnamed: 0    1289\n",
       "title            0\n",
       "date          1289\n",
       "stock         2578\n",
       "dtype: int64"
      ]
     },
     "execution_count": 36,
     "metadata": {},
     "output_type": "execute_result"
    }
   ],
   "execution_count": 36
  },
  {
   "metadata": {
    "ExecuteTime": {
     "end_time": "2025-04-10T07:15:10.114370Z",
     "start_time": "2025-04-10T07:15:10.045755Z"
    }
   },
   "cell_type": "code",
   "source": [
    "sample_size = 30000\n",
    "df = df.sample(n=sample_size, random_state=42)"
   ],
   "id": "e319ee16d5dbc3ba",
   "outputs": [],
   "execution_count": 37
  },
  {
   "metadata": {
    "ExecuteTime": {
     "end_time": "2025-04-10T07:15:10.176170Z",
     "start_time": "2025-04-10T07:15:10.158575Z"
    }
   },
   "cell_type": "code",
   "source": [
    "df.dropna(subset=['title'], inplace=True)\n",
    "texts = df['title'].tolist()"
   ],
   "id": "acdbb0b9e26579e7",
   "outputs": [],
   "execution_count": 38
  },
  {
   "metadata": {
    "ExecuteTime": {
     "end_time": "2025-04-10T07:15:14.959014Z",
     "start_time": "2025-04-10T07:15:10.249741Z"
    }
   },
   "cell_type": "code",
   "source": [
    "model_url = \"https://tfhub.dev/google/universal-sentence-encoder/4\"\n",
    "use_model = hub.load(model_url)"
   ],
   "id": "3bb4d62940c966ef",
   "outputs": [],
   "execution_count": 39
  },
  {
   "metadata": {
    "ExecuteTime": {
     "end_time": "2025-04-10T07:15:15.024141Z",
     "start_time": "2025-04-10T07:15:15.021771Z"
    }
   },
   "cell_type": "code",
   "source": [
    "def get_embeddings(texts):\n",
    "  embeddings = use_model(texts)\n",
    "  return np.array(embeddings)"
   ],
   "id": "cc043cec29d5decb",
   "outputs": [],
   "execution_count": 40
  },
  {
   "metadata": {
    "ExecuteTime": {
     "end_time": "2025-04-10T07:15:17.964480Z",
     "start_time": "2025-04-10T07:15:15.071821Z"
    }
   },
   "cell_type": "code",
   "source": [
    "text_embeddings = get_embeddings(texts)\n",
    "text_embeddings.shape"
   ],
   "id": "d0bc51786d02a613",
   "outputs": [
    {
     "data": {
      "text/plain": [
       "(30000, 512)"
      ]
     },
     "execution_count": 41,
     "metadata": {},
     "output_type": "execute_result"
    }
   ],
   "execution_count": 41
  },
  {
   "metadata": {
    "ExecuteTime": {
     "end_time": "2025-04-10T07:15:18.060530Z",
     "start_time": "2025-04-10T07:15:18.014607Z"
    }
   },
   "cell_type": "code",
   "source": "normalized_embeddings = normalize(text_embeddings, norm='l2')",
   "id": "5a34e3d78f59c04a",
   "outputs": [],
   "execution_count": 42
  },
  {
   "metadata": {
    "ExecuteTime": {
     "end_time": "2025-04-10T07:15:24.312242Z",
     "start_time": "2025-04-10T07:15:18.071943Z"
    }
   },
   "cell_type": "code",
   "source": [
    "num_clusters = 10\n",
    "kmeans = KMeans(n_clusters=num_clusters, random_state=42, n_init=10)\n",
    "kmeans.fit(normalized_embeddings)"
   ],
   "id": "eecc5165f78304f7",
   "outputs": [
    {
     "data": {
      "text/plain": [
       "KMeans(n_clusters=10, n_init=10, random_state=42)"
      ],
      "text/html": [
       "<style>#sk-container-id-2 {\n",
       "  /* Definition of color scheme common for light and dark mode */\n",
       "  --sklearn-color-text: #000;\n",
       "  --sklearn-color-text-muted: #666;\n",
       "  --sklearn-color-line: gray;\n",
       "  /* Definition of color scheme for unfitted estimators */\n",
       "  --sklearn-color-unfitted-level-0: #fff5e6;\n",
       "  --sklearn-color-unfitted-level-1: #f6e4d2;\n",
       "  --sklearn-color-unfitted-level-2: #ffe0b3;\n",
       "  --sklearn-color-unfitted-level-3: chocolate;\n",
       "  /* Definition of color scheme for fitted estimators */\n",
       "  --sklearn-color-fitted-level-0: #f0f8ff;\n",
       "  --sklearn-color-fitted-level-1: #d4ebff;\n",
       "  --sklearn-color-fitted-level-2: #b3dbfd;\n",
       "  --sklearn-color-fitted-level-3: cornflowerblue;\n",
       "\n",
       "  /* Specific color for light theme */\n",
       "  --sklearn-color-text-on-default-background: var(--sg-text-color, var(--theme-code-foreground, var(--jp-content-font-color1, black)));\n",
       "  --sklearn-color-background: var(--sg-background-color, var(--theme-background, var(--jp-layout-color0, white)));\n",
       "  --sklearn-color-border-box: var(--sg-text-color, var(--theme-code-foreground, var(--jp-content-font-color1, black)));\n",
       "  --sklearn-color-icon: #696969;\n",
       "\n",
       "  @media (prefers-color-scheme: dark) {\n",
       "    /* Redefinition of color scheme for dark theme */\n",
       "    --sklearn-color-text-on-default-background: var(--sg-text-color, var(--theme-code-foreground, var(--jp-content-font-color1, white)));\n",
       "    --sklearn-color-background: var(--sg-background-color, var(--theme-background, var(--jp-layout-color0, #111)));\n",
       "    --sklearn-color-border-box: var(--sg-text-color, var(--theme-code-foreground, var(--jp-content-font-color1, white)));\n",
       "    --sklearn-color-icon: #878787;\n",
       "  }\n",
       "}\n",
       "\n",
       "#sk-container-id-2 {\n",
       "  color: var(--sklearn-color-text);\n",
       "}\n",
       "\n",
       "#sk-container-id-2 pre {\n",
       "  padding: 0;\n",
       "}\n",
       "\n",
       "#sk-container-id-2 input.sk-hidden--visually {\n",
       "  border: 0;\n",
       "  clip: rect(1px 1px 1px 1px);\n",
       "  clip: rect(1px, 1px, 1px, 1px);\n",
       "  height: 1px;\n",
       "  margin: -1px;\n",
       "  overflow: hidden;\n",
       "  padding: 0;\n",
       "  position: absolute;\n",
       "  width: 1px;\n",
       "}\n",
       "\n",
       "#sk-container-id-2 div.sk-dashed-wrapped {\n",
       "  border: 1px dashed var(--sklearn-color-line);\n",
       "  margin: 0 0.4em 0.5em 0.4em;\n",
       "  box-sizing: border-box;\n",
       "  padding-bottom: 0.4em;\n",
       "  background-color: var(--sklearn-color-background);\n",
       "}\n",
       "\n",
       "#sk-container-id-2 div.sk-container {\n",
       "  /* jupyter's `normalize.less` sets `[hidden] { display: none; }`\n",
       "     but bootstrap.min.css set `[hidden] { display: none !important; }`\n",
       "     so we also need the `!important` here to be able to override the\n",
       "     default hidden behavior on the sphinx rendered scikit-learn.org.\n",
       "     See: https://github.com/scikit-learn/scikit-learn/issues/21755 */\n",
       "  display: inline-block !important;\n",
       "  position: relative;\n",
       "}\n",
       "\n",
       "#sk-container-id-2 div.sk-text-repr-fallback {\n",
       "  display: none;\n",
       "}\n",
       "\n",
       "div.sk-parallel-item,\n",
       "div.sk-serial,\n",
       "div.sk-item {\n",
       "  /* draw centered vertical line to link estimators */\n",
       "  background-image: linear-gradient(var(--sklearn-color-text-on-default-background), var(--sklearn-color-text-on-default-background));\n",
       "  background-size: 2px 100%;\n",
       "  background-repeat: no-repeat;\n",
       "  background-position: center center;\n",
       "}\n",
       "\n",
       "/* Parallel-specific style estimator block */\n",
       "\n",
       "#sk-container-id-2 div.sk-parallel-item::after {\n",
       "  content: \"\";\n",
       "  width: 100%;\n",
       "  border-bottom: 2px solid var(--sklearn-color-text-on-default-background);\n",
       "  flex-grow: 1;\n",
       "}\n",
       "\n",
       "#sk-container-id-2 div.sk-parallel {\n",
       "  display: flex;\n",
       "  align-items: stretch;\n",
       "  justify-content: center;\n",
       "  background-color: var(--sklearn-color-background);\n",
       "  position: relative;\n",
       "}\n",
       "\n",
       "#sk-container-id-2 div.sk-parallel-item {\n",
       "  display: flex;\n",
       "  flex-direction: column;\n",
       "}\n",
       "\n",
       "#sk-container-id-2 div.sk-parallel-item:first-child::after {\n",
       "  align-self: flex-end;\n",
       "  width: 50%;\n",
       "}\n",
       "\n",
       "#sk-container-id-2 div.sk-parallel-item:last-child::after {\n",
       "  align-self: flex-start;\n",
       "  width: 50%;\n",
       "}\n",
       "\n",
       "#sk-container-id-2 div.sk-parallel-item:only-child::after {\n",
       "  width: 0;\n",
       "}\n",
       "\n",
       "/* Serial-specific style estimator block */\n",
       "\n",
       "#sk-container-id-2 div.sk-serial {\n",
       "  display: flex;\n",
       "  flex-direction: column;\n",
       "  align-items: center;\n",
       "  background-color: var(--sklearn-color-background);\n",
       "  padding-right: 1em;\n",
       "  padding-left: 1em;\n",
       "}\n",
       "\n",
       "\n",
       "/* Toggleable style: style used for estimator/Pipeline/ColumnTransformer box that is\n",
       "clickable and can be expanded/collapsed.\n",
       "- Pipeline and ColumnTransformer use this feature and define the default style\n",
       "- Estimators will overwrite some part of the style using the `sk-estimator` class\n",
       "*/\n",
       "\n",
       "/* Pipeline and ColumnTransformer style (default) */\n",
       "\n",
       "#sk-container-id-2 div.sk-toggleable {\n",
       "  /* Default theme specific background. It is overwritten whether we have a\n",
       "  specific estimator or a Pipeline/ColumnTransformer */\n",
       "  background-color: var(--sklearn-color-background);\n",
       "}\n",
       "\n",
       "/* Toggleable label */\n",
       "#sk-container-id-2 label.sk-toggleable__label {\n",
       "  cursor: pointer;\n",
       "  display: flex;\n",
       "  width: 100%;\n",
       "  margin-bottom: 0;\n",
       "  padding: 0.5em;\n",
       "  box-sizing: border-box;\n",
       "  text-align: center;\n",
       "  align-items: start;\n",
       "  justify-content: space-between;\n",
       "  gap: 0.5em;\n",
       "}\n",
       "\n",
       "#sk-container-id-2 label.sk-toggleable__label .caption {\n",
       "  font-size: 0.6rem;\n",
       "  font-weight: lighter;\n",
       "  color: var(--sklearn-color-text-muted);\n",
       "}\n",
       "\n",
       "#sk-container-id-2 label.sk-toggleable__label-arrow:before {\n",
       "  /* Arrow on the left of the label */\n",
       "  content: \"▸\";\n",
       "  float: left;\n",
       "  margin-right: 0.25em;\n",
       "  color: var(--sklearn-color-icon);\n",
       "}\n",
       "\n",
       "#sk-container-id-2 label.sk-toggleable__label-arrow:hover:before {\n",
       "  color: var(--sklearn-color-text);\n",
       "}\n",
       "\n",
       "/* Toggleable content - dropdown */\n",
       "\n",
       "#sk-container-id-2 div.sk-toggleable__content {\n",
       "  max-height: 0;\n",
       "  max-width: 0;\n",
       "  overflow: hidden;\n",
       "  text-align: left;\n",
       "  /* unfitted */\n",
       "  background-color: var(--sklearn-color-unfitted-level-0);\n",
       "}\n",
       "\n",
       "#sk-container-id-2 div.sk-toggleable__content.fitted {\n",
       "  /* fitted */\n",
       "  background-color: var(--sklearn-color-fitted-level-0);\n",
       "}\n",
       "\n",
       "#sk-container-id-2 div.sk-toggleable__content pre {\n",
       "  margin: 0.2em;\n",
       "  border-radius: 0.25em;\n",
       "  color: var(--sklearn-color-text);\n",
       "  /* unfitted */\n",
       "  background-color: var(--sklearn-color-unfitted-level-0);\n",
       "}\n",
       "\n",
       "#sk-container-id-2 div.sk-toggleable__content.fitted pre {\n",
       "  /* unfitted */\n",
       "  background-color: var(--sklearn-color-fitted-level-0);\n",
       "}\n",
       "\n",
       "#sk-container-id-2 input.sk-toggleable__control:checked~div.sk-toggleable__content {\n",
       "  /* Expand drop-down */\n",
       "  max-height: 200px;\n",
       "  max-width: 100%;\n",
       "  overflow: auto;\n",
       "}\n",
       "\n",
       "#sk-container-id-2 input.sk-toggleable__control:checked~label.sk-toggleable__label-arrow:before {\n",
       "  content: \"▾\";\n",
       "}\n",
       "\n",
       "/* Pipeline/ColumnTransformer-specific style */\n",
       "\n",
       "#sk-container-id-2 div.sk-label input.sk-toggleable__control:checked~label.sk-toggleable__label {\n",
       "  color: var(--sklearn-color-text);\n",
       "  background-color: var(--sklearn-color-unfitted-level-2);\n",
       "}\n",
       "\n",
       "#sk-container-id-2 div.sk-label.fitted input.sk-toggleable__control:checked~label.sk-toggleable__label {\n",
       "  background-color: var(--sklearn-color-fitted-level-2);\n",
       "}\n",
       "\n",
       "/* Estimator-specific style */\n",
       "\n",
       "/* Colorize estimator box */\n",
       "#sk-container-id-2 div.sk-estimator input.sk-toggleable__control:checked~label.sk-toggleable__label {\n",
       "  /* unfitted */\n",
       "  background-color: var(--sklearn-color-unfitted-level-2);\n",
       "}\n",
       "\n",
       "#sk-container-id-2 div.sk-estimator.fitted input.sk-toggleable__control:checked~label.sk-toggleable__label {\n",
       "  /* fitted */\n",
       "  background-color: var(--sklearn-color-fitted-level-2);\n",
       "}\n",
       "\n",
       "#sk-container-id-2 div.sk-label label.sk-toggleable__label,\n",
       "#sk-container-id-2 div.sk-label label {\n",
       "  /* The background is the default theme color */\n",
       "  color: var(--sklearn-color-text-on-default-background);\n",
       "}\n",
       "\n",
       "/* On hover, darken the color of the background */\n",
       "#sk-container-id-2 div.sk-label:hover label.sk-toggleable__label {\n",
       "  color: var(--sklearn-color-text);\n",
       "  background-color: var(--sklearn-color-unfitted-level-2);\n",
       "}\n",
       "\n",
       "/* Label box, darken color on hover, fitted */\n",
       "#sk-container-id-2 div.sk-label.fitted:hover label.sk-toggleable__label.fitted {\n",
       "  color: var(--sklearn-color-text);\n",
       "  background-color: var(--sklearn-color-fitted-level-2);\n",
       "}\n",
       "\n",
       "/* Estimator label */\n",
       "\n",
       "#sk-container-id-2 div.sk-label label {\n",
       "  font-family: monospace;\n",
       "  font-weight: bold;\n",
       "  display: inline-block;\n",
       "  line-height: 1.2em;\n",
       "}\n",
       "\n",
       "#sk-container-id-2 div.sk-label-container {\n",
       "  text-align: center;\n",
       "}\n",
       "\n",
       "/* Estimator-specific */\n",
       "#sk-container-id-2 div.sk-estimator {\n",
       "  font-family: monospace;\n",
       "  border: 1px dotted var(--sklearn-color-border-box);\n",
       "  border-radius: 0.25em;\n",
       "  box-sizing: border-box;\n",
       "  margin-bottom: 0.5em;\n",
       "  /* unfitted */\n",
       "  background-color: var(--sklearn-color-unfitted-level-0);\n",
       "}\n",
       "\n",
       "#sk-container-id-2 div.sk-estimator.fitted {\n",
       "  /* fitted */\n",
       "  background-color: var(--sklearn-color-fitted-level-0);\n",
       "}\n",
       "\n",
       "/* on hover */\n",
       "#sk-container-id-2 div.sk-estimator:hover {\n",
       "  /* unfitted */\n",
       "  background-color: var(--sklearn-color-unfitted-level-2);\n",
       "}\n",
       "\n",
       "#sk-container-id-2 div.sk-estimator.fitted:hover {\n",
       "  /* fitted */\n",
       "  background-color: var(--sklearn-color-fitted-level-2);\n",
       "}\n",
       "\n",
       "/* Specification for estimator info (e.g. \"i\" and \"?\") */\n",
       "\n",
       "/* Common style for \"i\" and \"?\" */\n",
       "\n",
       ".sk-estimator-doc-link,\n",
       "a:link.sk-estimator-doc-link,\n",
       "a:visited.sk-estimator-doc-link {\n",
       "  float: right;\n",
       "  font-size: smaller;\n",
       "  line-height: 1em;\n",
       "  font-family: monospace;\n",
       "  background-color: var(--sklearn-color-background);\n",
       "  border-radius: 1em;\n",
       "  height: 1em;\n",
       "  width: 1em;\n",
       "  text-decoration: none !important;\n",
       "  margin-left: 0.5em;\n",
       "  text-align: center;\n",
       "  /* unfitted */\n",
       "  border: var(--sklearn-color-unfitted-level-1) 1pt solid;\n",
       "  color: var(--sklearn-color-unfitted-level-1);\n",
       "}\n",
       "\n",
       ".sk-estimator-doc-link.fitted,\n",
       "a:link.sk-estimator-doc-link.fitted,\n",
       "a:visited.sk-estimator-doc-link.fitted {\n",
       "  /* fitted */\n",
       "  border: var(--sklearn-color-fitted-level-1) 1pt solid;\n",
       "  color: var(--sklearn-color-fitted-level-1);\n",
       "}\n",
       "\n",
       "/* On hover */\n",
       "div.sk-estimator:hover .sk-estimator-doc-link:hover,\n",
       ".sk-estimator-doc-link:hover,\n",
       "div.sk-label-container:hover .sk-estimator-doc-link:hover,\n",
       ".sk-estimator-doc-link:hover {\n",
       "  /* unfitted */\n",
       "  background-color: var(--sklearn-color-unfitted-level-3);\n",
       "  color: var(--sklearn-color-background);\n",
       "  text-decoration: none;\n",
       "}\n",
       "\n",
       "div.sk-estimator.fitted:hover .sk-estimator-doc-link.fitted:hover,\n",
       ".sk-estimator-doc-link.fitted:hover,\n",
       "div.sk-label-container:hover .sk-estimator-doc-link.fitted:hover,\n",
       ".sk-estimator-doc-link.fitted:hover {\n",
       "  /* fitted */\n",
       "  background-color: var(--sklearn-color-fitted-level-3);\n",
       "  color: var(--sklearn-color-background);\n",
       "  text-decoration: none;\n",
       "}\n",
       "\n",
       "/* Span, style for the box shown on hovering the info icon */\n",
       ".sk-estimator-doc-link span {\n",
       "  display: none;\n",
       "  z-index: 9999;\n",
       "  position: relative;\n",
       "  font-weight: normal;\n",
       "  right: .2ex;\n",
       "  padding: .5ex;\n",
       "  margin: .5ex;\n",
       "  width: min-content;\n",
       "  min-width: 20ex;\n",
       "  max-width: 50ex;\n",
       "  color: var(--sklearn-color-text);\n",
       "  box-shadow: 2pt 2pt 4pt #999;\n",
       "  /* unfitted */\n",
       "  background: var(--sklearn-color-unfitted-level-0);\n",
       "  border: .5pt solid var(--sklearn-color-unfitted-level-3);\n",
       "}\n",
       "\n",
       ".sk-estimator-doc-link.fitted span {\n",
       "  /* fitted */\n",
       "  background: var(--sklearn-color-fitted-level-0);\n",
       "  border: var(--sklearn-color-fitted-level-3);\n",
       "}\n",
       "\n",
       ".sk-estimator-doc-link:hover span {\n",
       "  display: block;\n",
       "}\n",
       "\n",
       "/* \"?\"-specific style due to the `<a>` HTML tag */\n",
       "\n",
       "#sk-container-id-2 a.estimator_doc_link {\n",
       "  float: right;\n",
       "  font-size: 1rem;\n",
       "  line-height: 1em;\n",
       "  font-family: monospace;\n",
       "  background-color: var(--sklearn-color-background);\n",
       "  border-radius: 1rem;\n",
       "  height: 1rem;\n",
       "  width: 1rem;\n",
       "  text-decoration: none;\n",
       "  /* unfitted */\n",
       "  color: var(--sklearn-color-unfitted-level-1);\n",
       "  border: var(--sklearn-color-unfitted-level-1) 1pt solid;\n",
       "}\n",
       "\n",
       "#sk-container-id-2 a.estimator_doc_link.fitted {\n",
       "  /* fitted */\n",
       "  border: var(--sklearn-color-fitted-level-1) 1pt solid;\n",
       "  color: var(--sklearn-color-fitted-level-1);\n",
       "}\n",
       "\n",
       "/* On hover */\n",
       "#sk-container-id-2 a.estimator_doc_link:hover {\n",
       "  /* unfitted */\n",
       "  background-color: var(--sklearn-color-unfitted-level-3);\n",
       "  color: var(--sklearn-color-background);\n",
       "  text-decoration: none;\n",
       "}\n",
       "\n",
       "#sk-container-id-2 a.estimator_doc_link.fitted:hover {\n",
       "  /* fitted */\n",
       "  background-color: var(--sklearn-color-fitted-level-3);\n",
       "}\n",
       "</style><div id=\"sk-container-id-2\" class=\"sk-top-container\"><div class=\"sk-text-repr-fallback\"><pre>KMeans(n_clusters=10, n_init=10, random_state=42)</pre><b>In a Jupyter environment, please rerun this cell to show the HTML representation or trust the notebook. <br />On GitHub, the HTML representation is unable to render, please try loading this page with nbviewer.org.</b></div><div class=\"sk-container\" hidden><div class=\"sk-item\"><div class=\"sk-estimator fitted sk-toggleable\"><input class=\"sk-toggleable__control sk-hidden--visually\" id=\"sk-estimator-id-2\" type=\"checkbox\" checked><label for=\"sk-estimator-id-2\" class=\"sk-toggleable__label fitted sk-toggleable__label-arrow\"><div><div>KMeans</div></div><div><a class=\"sk-estimator-doc-link fitted\" rel=\"noreferrer\" target=\"_blank\" href=\"https://scikit-learn.org/1.6/modules/generated/sklearn.cluster.KMeans.html\">?<span>Documentation for KMeans</span></a><span class=\"sk-estimator-doc-link fitted\">i<span>Fitted</span></span></div></label><div class=\"sk-toggleable__content fitted\"><pre>KMeans(n_clusters=10, n_init=10, random_state=42)</pre></div> </div></div></div></div>"
      ]
     },
     "execution_count": 43,
     "metadata": {},
     "output_type": "execute_result"
    }
   ],
   "execution_count": 43
  },
  {
   "metadata": {
    "ExecuteTime": {
     "end_time": "2025-04-10T07:15:24.359034Z",
     "start_time": "2025-04-10T07:15:24.332355Z"
    }
   },
   "cell_type": "code",
   "source": [
    "cluster_labels = kmeans.labels_\n",
    "df['cluster'] = cluster_labels\n",
    "df['cluster'].value_counts()"
   ],
   "id": "50ac2c5cecec2a33",
   "outputs": [
    {
     "data": {
      "text/plain": [
       "cluster\n",
       "8    6670\n",
       "1    4204\n",
       "0    4151\n",
       "2    4145\n",
       "3    3039\n",
       "4    2782\n",
       "6    2720\n",
       "9     890\n",
       "7     829\n",
       "5     570\n",
       "Name: count, dtype: int64"
      ]
     },
     "execution_count": 44,
     "metadata": {},
     "output_type": "execute_result"
    }
   ],
   "execution_count": 44
  },
  {
   "metadata": {
    "ExecuteTime": {
     "end_time": "2025-04-10T07:15:24.425857Z",
     "start_time": "2025-04-10T07:15:24.422890Z"
    }
   },
   "cell_type": "code",
   "source": [
    "def create_knn_classifier(k, embeddings, labels):\n",
    "  knn_classifier = KNeighborsClassifier(n_neighbors=k, metric='cosine')\n",
    "  knn_classifier.fit(embeddings, labels)\n",
    "  return knn_classifier"
   ],
   "id": "47fb2dc6621b1307",
   "outputs": [],
   "execution_count": 45
  },
  {
   "metadata": {
    "ExecuteTime": {
     "end_time": "2025-04-10T07:15:24.483138Z",
     "start_time": "2025-04-10T07:15:24.469491Z"
    }
   },
   "cell_type": "code",
   "source": [
    "k_value = 5\n",
    "knn_model = create_knn_classifier(k_value, normalized_embeddings, cluster_labels)"
   ],
   "id": "ff4ed43b581a925",
   "outputs": [
    {
     "name": "stdout",
     "output_type": "stream",
     "text": [
      "k-NN с k=5'.\n"
     ]
    }
   ],
   "execution_count": 46
  },
  {
   "metadata": {
    "ExecuteTime": {
     "end_time": "2025-04-10T07:15:24.577Z",
     "start_time": "2025-04-10T07:15:24.573490Z"
    }
   },
   "cell_type": "code",
   "source": [
    "def semantic_search_all(query_text, model, all_embeddings, all_texts_df, top_n=5):\n",
    "  query_embedding = model([query_text])\n",
    "  query_embedding_normalized = normalize(query_embedding, norm='l2')\n",
    "\n",
    "  similarities = cosine_similarity(query_embedding_normalized, all_embeddings)[0]\n",
    "\n",
    "  sorted_indices = np.argsort(similarities)[::-1]\n",
    "\n",
    "  results = []\n",
    "  for i in sorted_indices[:top_n]:\n",
    "      results.append({\n",
    "          'text': all_texts_df.iloc[i]['title'],\n",
    "          'similarity': similarities[i],\n",
    "          'cluster': all_texts_df.iloc[i]['cluster']\n",
    "      })\n",
    "  return results"
   ],
   "id": "85a1092fc1a13b38",
   "outputs": [],
   "execution_count": 47
  },
  {
   "metadata": {
    "ExecuteTime": {
     "end_time": "2025-04-10T07:15:25.112104Z",
     "start_time": "2025-04-10T07:15:24.696982Z"
    }
   },
   "cell_type": "code",
   "source": [
    "search_query = \"Big tech stocks rally on positive earnings news\"\n",
    "search_results_all = semantic_search_all(search_query, use_model, normalized_embeddings, df, top_n=5)\n",
    "print(f\"\\nРезультаты поиска по всему датасету для запроса: '{search_query}'\")\n",
    "for res in search_results_all:\n",
    "  print(f\"- Сходство: {res['similarity']:.4f}, Кластер: {res['cluster']}, Текст: {res['text']}\")"
   ],
   "id": "1943c7a4862cad6b",
   "outputs": [
    {
     "name": "stdout",
     "output_type": "stream",
     "text": [
      "\n",
      "Результаты поиска по всему датасету для запроса: 'Big tech stocks rally on positive earnings news'\n",
      "- Сходство: 0.6333, Кластер: 4, Текст: Strong Bullish Stocks to Watch next week\n",
      "- Сходство: 0.6315, Кластер: 4, Текст: NASDAQ Stocks Hitting 52-Week Lows\n",
      "- Сходство: 0.6308, Кластер: 1, Текст: U.S. Stocks Fall; iRobot Shares Gain On Upbeat Results\n",
      "- Сходство: 0.6260, Кластер: 2, Текст: The Week Ahead In Biotech: COVID-19 Stocks In The Spotlight, Earnings Taper Off\n",
      "- Сходство: 0.6208, Кластер: 1, Текст: US Stock Futures Rise Ahead Of Earnings, Consumer Confidence Data\n"
     ]
    }
   ],
   "execution_count": 48
  },
  {
   "metadata": {
    "ExecuteTime": {
     "end_time": "2025-04-10T07:25:19.136509Z",
     "start_time": "2025-04-10T07:25:19.125674Z"
    }
   },
   "cell_type": "code",
   "source": [
    "def semantic_search_within_cluster(query_text, model, knn_classifier_instance, all_embeddings, all_texts_df, top_n=5):\n",
    "    query_embedding = model([query_text])\n",
    "    query_embedding_normalized = normalize(query_embedding, norm='l2')\n",
    "\n",
    "    predicted_cluster = knn_classifier_instance.predict(query_embedding_normalized)[0]\n",
    "    print(f\"Запрос '{query_text}' отнесен k-NN (k={knn_classifier_instance.n_neighbors}) к кластеру: {predicted_cluster}\")\n",
    "\n",
    "    cluster_indices = np.where(all_texts_df['cluster'] == predicted_cluster)[0]\n",
    "\n",
    "    if len(cluster_indices) == 0:\n",
    "        print(f\"В кластере {predicted_cluster} нет текстов. Поиск невозможен.\")\n",
    "        return []\n",
    "\n",
    "    cluster_embeddings = all_embeddings[cluster_indices]\n",
    "    cluster_df_subset = all_texts_df.iloc[cluster_indices]\n",
    "\n",
    "    similarities = cosine_similarity(query_embedding_normalized, cluster_embeddings)[0]\n",
    "\n",
    "    num_results = min(top_n, len(similarities))\n",
    "    sorted_local_indices = np.argsort(similarities)[::-1][:num_results]\n",
    "    results = [\n",
    "        {\n",
    "            'text': cluster_df_subset.iloc[local_idx]['title'],\n",
    "            'similarity': similarities[local_idx],\n",
    "            'cluster': predicted_cluster\n",
    "        }\n",
    "        for local_idx in sorted_local_indices\n",
    "    ]\n",
    "    return results"
   ],
   "id": "57e261c3d2970a68",
   "outputs": [],
   "execution_count": 52
  },
  {
   "metadata": {
    "ExecuteTime": {
     "end_time": "2025-04-10T07:25:21.172615Z",
     "start_time": "2025-04-10T07:25:19.887999Z"
    }
   },
   "cell_type": "code",
   "source": [
    "for k_val in [3, 7, 15]:\n",
    "    print(f\"\\nКластер с k-NN (k={k_val})\")\n",
    "    temp_knn_model = create_knn_classifier(k_val, normalized_embeddings, cluster_labels)\n",
    "    search_results_cluster = semantic_search_within_cluster(search_query, use_model, temp_knn_model, normalized_embeddings, df, top_n=5)\n",
    "    if search_results_cluster:\n",
    "        for res in search_results_cluster:\n",
    "          print(f\"- Сходство: {res['similarity']:.4f}, Текст: {res['text']}\")"
   ],
   "id": "8b4cb4812314b0ac",
   "outputs": [
    {
     "name": "stdout",
     "output_type": "stream",
     "text": [
      "\n",
      "Кластер с k-NN (k=3)\n",
      "k-NN с k=3'.\n",
      "Запрос 'Big tech stocks rally on positive earnings news' отнесен k-NN (k=3) к кластеру: 4\n",
      "- Сходство: 0.6333, Текст: Strong Bullish Stocks to Watch next week\n",
      "- Сходство: 0.6315, Текст: NASDAQ Stocks Hitting 52-Week Lows\n",
      "- Сходство: 0.6168, Текст: Big Financial Stocks Nearing Intraday Lows\n",
      "- Сходство: 0.6033, Текст: Market Wrap for Wednesday, May 29: Stocks Fall on Profit Taking After Big Rally \n",
      "- Сходство: 0.6033, Текст: Stocks That Hit 52-Week Lows On Friday\n",
      "\n",
      "Кластер с k-NN (k=7)\n",
      "k-NN с k=7'.\n",
      "Запрос 'Big tech stocks rally on positive earnings news' отнесен k-NN (k=7) к кластеру: 4\n",
      "- Сходство: 0.6333, Текст: Strong Bullish Stocks to Watch next week\n",
      "- Сходство: 0.6315, Текст: NASDAQ Stocks Hitting 52-Week Lows\n",
      "- Сходство: 0.6168, Текст: Big Financial Stocks Nearing Intraday Lows\n",
      "- Сходство: 0.6033, Текст: Market Wrap for Wednesday, May 29: Stocks Fall on Profit Taking After Big Rally \n",
      "- Сходство: 0.6033, Текст: Stocks That Hit 52-Week Lows On Friday\n",
      "\n",
      "Кластер с k-NN (k=15)\n",
      "k-NN с k=15'.\n",
      "Запрос 'Big tech stocks rally on positive earnings news' отнесен k-NN (k=15) к кластеру: 4\n",
      "- Сходство: 0.6333, Текст: Strong Bullish Stocks to Watch next week\n",
      "- Сходство: 0.6315, Текст: NASDAQ Stocks Hitting 52-Week Lows\n",
      "- Сходство: 0.6168, Текст: Big Financial Stocks Nearing Intraday Lows\n",
      "- Сходство: 0.6033, Текст: Market Wrap for Wednesday, May 29: Stocks Fall on Profit Taking After Big Rally \n",
      "- Сходство: 0.6033, Текст: Stocks That Hit 52-Week Lows On Friday\n"
     ]
    }
   ],
   "execution_count": 53
  },
  {
   "metadata": {
    "ExecuteTime": {
     "end_time": "2025-04-10T07:15:26.289250Z",
     "start_time": "2025-04-10T07:15:25.998348Z"
    }
   },
   "cell_type": "code",
   "source": [
    "results = semantic_search_all(search_query, use_model, normalized_embeddings, df)\n",
    "for res in results:\n",
    "    print(f\"- Сходство: {res['similarity']:.4f},| Текст: {res['text']}\", f'| Кластер:{res['cluster']}')"
   ],
   "id": "d4e56422a60f125a",
   "outputs": [
    {
     "name": "stdout",
     "output_type": "stream",
     "text": [
      "- Сходство: 0.6333,| Текст: Strong Bullish Stocks to Watch next week | Кластер:4\n",
      "- Сходство: 0.6315,| Текст: NASDAQ Stocks Hitting 52-Week Lows | Кластер:4\n",
      "- Сходство: 0.6308,| Текст: U.S. Stocks Fall; iRobot Shares Gain On Upbeat Results | Кластер:1\n",
      "- Сходство: 0.6260,| Текст: The Week Ahead In Biotech: COVID-19 Stocks In The Spotlight, Earnings Taper Off | Кластер:2\n",
      "- Сходство: 0.6208,| Текст: US Stock Futures Rise Ahead Of Earnings, Consumer Confidence Data | Кластер:1\n"
     ]
    }
   ],
   "execution_count": 51
  },
  {
   "metadata": {
    "ExecuteTime": {
     "end_time": "2025-04-10T07:15:26.379469Z",
     "start_time": "2025-04-10T07:15:26.377730Z"
    }
   },
   "cell_type": "code",
   "source": "",
   "id": "3107e4312f327066",
   "outputs": [],
   "execution_count": null
  }
 ],
 "metadata": {
  "kernelspec": {
   "display_name": "Python 3",
   "language": "python",
   "name": "python3"
  },
  "language_info": {
   "codemirror_mode": {
    "name": "ipython",
    "version": 2
   },
   "file_extension": ".py",
   "mimetype": "text/x-python",
   "name": "python",
   "nbconvert_exporter": "python",
   "pygments_lexer": "ipython2",
   "version": "2.7.6"
  }
 },
 "nbformat": 4,
 "nbformat_minor": 5
}
