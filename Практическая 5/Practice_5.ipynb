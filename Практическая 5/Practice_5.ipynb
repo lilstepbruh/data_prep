{
 "cells": [
  {
   "metadata": {
    "ExecuteTime": {
     "end_time": "2025-04-09T20:10:26.989427Z",
     "start_time": "2025-04-09T20:10:26.462272Z"
    }
   },
   "cell_type": "code",
   "source": [
    "import numpy as np\n",
    "import random\n",
    "import matplotlib.pyplot as plt"
   ],
   "id": "39fc49ce3dda3d10",
   "outputs": [],
   "execution_count": 1
  },
  {
   "cell_type": "code",
   "id": "initial_id",
   "metadata": {
    "collapsed": true,
    "ExecuteTime": {
     "end_time": "2025-04-09T20:10:27.006301Z",
     "start_time": "2025-04-09T20:10:27.000517Z"
    }
   },
   "source": [
    "NUM_CITIES = 20\n",
    "POP_SIZE = 100\n",
    "GENERATIONS = 300\n",
    "TOURNAMENT_SIZE = 5\n",
    "CROSS_RATE = 0.9\n",
    "MUTATE_RATE = 0.2\n",
    "\n",
    "def create_distance_matrix(n):\n",
    "    coords = np.random.rand(n, 2)\n",
    "    dist = np.sqrt(((coords[:, np.newaxis] - coords[np.newaxis, :])**2).sum(axis=2))\n",
    "    return dist\n",
    "\n",
    "def path_length(path, dist_matrix):\n",
    "    return sum(dist_matrix[path[i], path[(i + 1) % len(path)]] for i in range(len(path)))\n",
    "\n",
    "def init_population():\n",
    "    return [random.sample(range(NUM_CITIES), NUM_CITIES) for _ in range(POP_SIZE)]\n",
    "\n",
    "def tournament_selection(population, fitnesses):\n",
    "    selected = random.sample(list(zip(population, fitnesses)), TOURNAMENT_SIZE)\n",
    "    return min(selected, key=lambda x: x[1])[0][:]\n",
    "\n",
    "def order_crossover(parent1, parent2):\n",
    "    if random.random() > CROSS_RATE:\n",
    "        return parent1[:]\n",
    "    start, end = sorted(random.sample(range(NUM_CITIES), 2))\n",
    "    child = [None] * NUM_CITIES\n",
    "    child[start:end] = parent1[start:end]\n",
    "    ptr = end\n",
    "    for city in parent2:\n",
    "        if city not in child:\n",
    "            if ptr >= NUM_CITIES:\n",
    "                ptr = 0\n",
    "            child[ptr] = city\n",
    "            ptr += 1\n",
    "    return child\n",
    "\n",
    "def mutate(path):\n",
    "    if random.random() < MUTATE_RATE:\n",
    "        i, j = random.sample(range(NUM_CITIES), 2)\n",
    "        path[i], path[j] = path[j], path[i]\n",
    "    return path"
   ],
   "outputs": [],
   "execution_count": 2
  },
  {
   "metadata": {
    "ExecuteTime": {
     "end_time": "2025-04-09T20:10:29.893524Z",
     "start_time": "2025-04-09T20:10:29.209116Z"
    }
   },
   "cell_type": "code",
   "source": [
    "dist_matrix = create_distance_matrix(NUM_CITIES)\n",
    "population = init_population()\n",
    "best_lengths = []\n",
    "\n",
    "for gen in range(GENERATIONS):\n",
    "    fitnesses = [path_length(p, dist_matrix) for p in population]\n",
    "    new_population = []\n",
    "\n",
    "    for _ in range(POP_SIZE):\n",
    "        parent1 = tournament_selection(population, fitnesses)\n",
    "        parent2 = tournament_selection(population, fitnesses)\n",
    "        child = order_crossover(parent1, parent2)\n",
    "        child = mutate(child)\n",
    "        new_population.append(child)\n",
    "\n",
    "    population = new_population\n",
    "    best = min(fitnesses)\n",
    "    best_lengths.append(best)\n",
    "\n",
    "best_index = np.argmin([path_length(p, dist_matrix) for p in population])\n",
    "best_path = population[best_index]\n",
    "best_distance = path_length(best_path, dist_matrix)\n",
    "\n",
    "print(f\"Лучшая длина пути: {best_distance:.2f}\")\n",
    "print(f\"Лучший путь: {best_path}\")"
   ],
   "id": "d9f0eabc264cd902",
   "outputs": [
    {
     "name": "stdout",
     "output_type": "stream",
     "text": [
      "Лучшая длина пути: 3.58\n",
      "Лучший путь: [7, 19, 18, 8, 15, 16, 12, 14, 4, 3, 13, 11, 0, 6, 10, 2, 17, 5, 1, 9]\n"
     ]
    }
   ],
   "execution_count": 3
  },
  {
   "metadata": {
    "ExecuteTime": {
     "end_time": "2025-04-09T20:10:31.463393Z",
     "start_time": "2025-04-09T20:10:31.340022Z"
    }
   },
   "cell_type": "code",
   "source": [
    "plt.plot(best_lengths)\n",
    "plt.title(\"Лучшее решение по поколениям\")\n",
    "plt.xlabel(\"Поколение\")\n",
    "plt.ylabel(\"Длина маршрута\")\n",
    "plt.grid(True)\n",
    "plt.show()"
   ],
   "id": "8b2ad16f9dd43db1",
   "outputs": [
    {
     "data": {
      "text/plain": [
       "<Figure size 640x480 with 1 Axes>"
      ],
      "image/png": "[encoded data removed]"
     },
     "metadata": {},
     "output_type": "display_data"
    }
   ],
   "execution_count": 4
  },
  {
   "metadata": {},
   "cell_type": "code",
   "outputs": [],
   "execution_count": null,
   "source": "",
   "id": "9394bbd2fca4c8cc"
  }
 ],
 "metadata": {
  "kernelspec": {
   "display_name": "Python 3",
   "language": "python",
   "name": "python3"
  },
  "language_info": {
   "codemirror_mode": {
    "name": "ipython",
    "version": 2
   },
   "file_extension": ".py",
   "mimetype": "text/x-python",
   "name": "python",
   "nbconvert_exporter": "python",
   "pygments_lexer": "ipython2",
   "version": "2.7.6"
  }
 },
 "nbformat": 4,
 "nbformat_minor": 5
}
