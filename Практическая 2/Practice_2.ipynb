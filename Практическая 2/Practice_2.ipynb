{
 "cells": [
  {
   "cell_type": "code",
   "id": "initial_id",
   "metadata": {
    "collapsed": true,
    "ExecuteTime": {
     "end_time": "2025-03-13T10:55:22.551711Z",
     "start_time": "2025-03-13T10:55:22.547221Z"
    }
   },
   "source": [
    "import numpy as np\n",
    "import pandas as pd\n",
    "from sklearn.model_selection import train_test_split\n",
    "import sklearn.metrics as metrics\n",
    "from matplotlib import pyplot as plt\n",
    "from sklearn.preprocessing import StandardScaler\n",
    "import seaborn as sns\n",
    "from skfeature.function.statistical_based import CFS"
   ],
   "outputs": [],
   "execution_count": 194
  },
  {
   "metadata": {
    "ExecuteTime": {
     "end_time": "2025-03-13T10:55:22.602883Z",
     "start_time": "2025-03-13T10:55:22.597352Z"
    }
   },
   "cell_type": "code",
   "source": "data = pd.read_csv('diabetes.txt',encoding='cp1251', sep='\\t')",
   "id": "cbc73f44d42ceda1",
   "outputs": [],
   "execution_count": 195
  },
  {
   "metadata": {
    "ExecuteTime": {
     "end_time": "2025-03-13T10:55:22.671932Z",
     "start_time": "2025-03-13T10:55:22.658353Z"
    }
   },
   "cell_type": "code",
   "source": "data.head()",
   "id": "3a650f98e92cef3d",
   "outputs": [
    {
     "data": {
      "text/plain": [
       "   Беременность  Глюкоза  АД  Толщина КС  Инсулин   ИМТ  Наследственность  \\\n",
       "0             6      148  72        35.0      0.0  33.6             0.627   \n",
       "1             1       85  66        29.0      0.0  26.6             0.351   \n",
       "2             8      183  64         0.0      0.0  23.3             0.672   \n",
       "3             1       89  66        23.0     94.0  28.1             0.167   \n",
       "4             0      137  40        35.0    168.0  43.1             2.288   \n",
       "\n",
       "   Возраст  Диагноз  \n",
       "0       50        1  \n",
       "1       31        0  \n",
       "2       32        1  \n",
       "3       21        0  \n",
       "4       33        1  "
      ],
      "text/html": [
       "<div>\n",
       "<style scoped>\n",
       "    .dataframe tbody tr th:only-of-type {\n",
       "        vertical-align: middle;\n",
       "    }\n",
       "\n",
       "    .dataframe tbody tr th {\n",
       "        vertical-align: top;\n",
       "    }\n",
       "\n",
       "    .dataframe thead th {\n",
       "        text-align: right;\n",
       "    }\n",
       "</style>\n",
       "<table border=\"1\" class=\"dataframe\">\n",
       "  <thead>\n",
       "    <tr style=\"text-align: right;\">\n",
       "      <th></th>\n",
       "      <th>Беременность</th>\n",
       "      <th>Глюкоза</th>\n",
       "      <th>АД</th>\n",
       "      <th>Толщина КС</th>\n",
       "      <th>Инсулин</th>\n",
       "      <th>ИМТ</th>\n",
       "      <th>Наследственность</th>\n",
       "      <th>Возраст</th>\n",
       "      <th>Диагноз</th>\n",
       "    </tr>\n",
       "  </thead>\n",
       "  <tbody>\n",
       "    <tr>\n",
       "      <th>0</th>\n",
       "      <td>6</td>\n",
       "      <td>148</td>\n",
       "      <td>72</td>\n",
       "      <td>35.0</td>\n",
       "      <td>0.0</td>\n",
       "      <td>33.6</td>\n",
       "      <td>0.627</td>\n",
       "      <td>50</td>\n",
       "      <td>1</td>\n",
       "    </tr>\n",
       "    <tr>\n",
       "      <th>1</th>\n",
       "      <td>1</td>\n",
       "      <td>85</td>\n",
       "      <td>66</td>\n",
       "      <td>29.0</td>\n",
       "      <td>0.0</td>\n",
       "      <td>26.6</td>\n",
       "      <td>0.351</td>\n",
       "      <td>31</td>\n",
       "      <td>0</td>\n",
       "    </tr>\n",
       "    <tr>\n",
       "      <th>2</th>\n",
       "      <td>8</td>\n",
       "      <td>183</td>\n",
       "      <td>64</td>\n",
       "      <td>0.0</td>\n",
       "      <td>0.0</td>\n",
       "      <td>23.3</td>\n",
       "      <td>0.672</td>\n",
       "      <td>32</td>\n",
       "      <td>1</td>\n",
       "    </tr>\n",
       "    <tr>\n",
       "      <th>3</th>\n",
       "      <td>1</td>\n",
       "      <td>89</td>\n",
       "      <td>66</td>\n",
       "      <td>23.0</td>\n",
       "      <td>94.0</td>\n",
       "      <td>28.1</td>\n",
       "      <td>0.167</td>\n",
       "      <td>21</td>\n",
       "      <td>0</td>\n",
       "    </tr>\n",
       "    <tr>\n",
       "      <th>4</th>\n",
       "      <td>0</td>\n",
       "      <td>137</td>\n",
       "      <td>40</td>\n",
       "      <td>35.0</td>\n",
       "      <td>168.0</td>\n",
       "      <td>43.1</td>\n",
       "      <td>2.288</td>\n",
       "      <td>33</td>\n",
       "      <td>1</td>\n",
       "    </tr>\n",
       "  </tbody>\n",
       "</table>\n",
       "</div>"
      ]
     },
     "execution_count": 196,
     "metadata": {},
     "output_type": "execute_result"
    }
   ],
   "execution_count": 196
  },
  {
   "metadata": {
    "ExecuteTime": {
     "end_time": "2025-03-13T10:55:22.775434Z",
     "start_time": "2025-03-13T10:55:22.767978Z"
    }
   },
   "cell_type": "code",
   "source": "data['Диагноз'].value_counts()",
   "id": "172b82ab7d38edd8",
   "outputs": [
    {
     "data": {
      "text/plain": [
       "Диагноз\n",
       "0    500\n",
       "1    268\n",
       "Name: count, dtype: int64"
      ]
     },
     "execution_count": 197,
     "metadata": {},
     "output_type": "execute_result"
    }
   ],
   "execution_count": 197
  },
  {
   "metadata": {
    "ExecuteTime": {
     "end_time": "2025-03-13T10:55:22.880904Z",
     "start_time": "2025-03-13T10:55:22.876318Z"
    }
   },
   "cell_type": "code",
   "source": [
    "x = data.drop('Диагноз', axis=1)\n",
    "y = data['Диагноз']"
   ],
   "id": "b458181994ddc520",
   "outputs": [],
   "execution_count": 198
  },
  {
   "metadata": {
    "ExecuteTime": {
     "end_time": "2025-03-13T10:55:23.001229Z",
     "start_time": "2025-03-13T10:55:22.992971Z"
    }
   },
   "cell_type": "code",
   "source": [
    "scaler = StandardScaler()\n",
    "x_scaled = pd.DataFrame(scaler.fit_transform(x), columns=x.columns)"
   ],
   "id": "92f2632d14032347",
   "outputs": [],
   "execution_count": 199
  },
  {
   "metadata": {
    "ExecuteTime": {
     "end_time": "2025-03-13T10:55:23.522439Z",
     "start_time": "2025-03-13T10:55:23.278805Z"
    }
   },
   "cell_type": "code",
   "source": [
    "plt.figure(figsize=(10, 8))\n",
    "sns.heatmap(x_scaled.corr(), annot=True, cmap='coolwarm', fmt=\".2f\")\n",
    "plt.title(\"Тепловая карта корреляций\")\n",
    "plt.show()"
   ],
   "id": "cf6f5f49af79b905",
   "outputs": [
    {
     "data": {
      "text/plain": [
       "<Figure size 1000x800 with 2 Axes>"
      ],
      "image/png": "[encoded data removed]"
     },
     "metadata": {},
     "output_type": "display_data"
    }
   ],
   "execution_count": 200
  },
  {
   "metadata": {
    "ExecuteTime": {
     "end_time": "2025-03-13T10:55:23.554034Z",
     "start_time": "2025-03-13T10:55:23.537909Z"
    }
   },
   "cell_type": "code",
   "source": [
    "correlations = x_scaled.corrwith(y).sort_values(ascending=False)\n",
    "print(\"Корреляция признаков с целевой переменной:\\n\", correlations)"
   ],
   "id": "c0e05e3058c5ff85",
   "outputs": [
    {
     "name": "stdout",
     "output_type": "stream",
     "text": [
      "Корреляция признаков с целевой переменной:\n",
      " Глюкоза             0.466581\n",
      "ИМТ                 0.292695\n",
      "Возраст             0.238356\n",
      "Беременность        0.221898\n",
      "Наследственность    0.173844\n",
      "Инсулин             0.130548\n",
      "Толщина КС          0.074752\n",
      "АД                  0.065068\n",
      "dtype: float64\n"
     ]
    }
   ],
   "execution_count": 201
  },
  {
   "metadata": {
    "ExecuteTime": {
     "end_time": "2025-03-13T10:55:23.609791Z",
     "start_time": "2025-03-13T10:55:23.601742Z"
    }
   },
   "cell_type": "code",
   "source": [
    "correlations = x_scaled.corrwith(y).sort_values()\n",
    "least_correlated_features = correlations.index[:2]\n",
    "selected_features_naive = x_scaled.columns.drop(least_correlated_features)\n",
    "\n",
    "print(\"\\nУдалены:\\n\", least_correlated_cfs)\n",
    "\n",
    "x_cfs = x_scaled[selected_features_cfs]"
   ],
   "id": "dedce48ab38ac5d1",
   "outputs": [
    {
     "name": "stdout",
     "output_type": "stream",
     "text": [
      "\n",
      "Удалены:\n",
      " Index(['АД', 'Толщина КС'], dtype='object')\n"
     ]
    }
   ],
   "execution_count": 202
  },
  {
   "metadata": {
    "ExecuteTime": {
     "end_time": "2025-03-13T10:55:23.711134Z",
     "start_time": "2025-03-13T10:55:23.707391Z"
    }
   },
   "cell_type": "code",
   "source": [
    "least_correlated_features = ['Инсулин', 'Глюкоза']\n",
    "x_naive = x_scaled.drop(columns=least_correlated_features)\n",
    "print(\"\\nИсключенные наименее коррелированные признаки:\\n\", least_correlated_features)"
   ],
   "id": "21c4006d546f222c",
   "outputs": [
    {
     "name": "stdout",
     "output_type": "stream",
     "text": [
      "\n",
      "Исключенные наименее коррелированные признаки:\n",
      " ['Инсулин', 'Глюкоза']\n"
     ]
    }
   ],
   "execution_count": 203
  },
  {
   "metadata": {
    "ExecuteTime": {
     "end_time": "2025-03-13T10:55:23.791651Z",
     "start_time": "2025-03-13T10:55:23.782779Z"
    }
   },
   "cell_type": "code",
   "source": [
    "x_train_cfs, x_test_cfs, y_train, y_test = train_test_split(x_cfs, y, test_size=0.25, random_state=42, stratify=y)\n",
    "x_train_naive, x_test_naive, _, _ = train_test_split(x_naive, y, test_size=0.25, random_state=42, stratify=y)"
   ],
   "id": "175b8dfd5f1d0558",
   "outputs": [],
   "execution_count": 204
  },
  {
   "metadata": {
    "ExecuteTime": {
     "end_time": "2025-03-13T10:55:23.899228Z",
     "start_time": "2025-03-13T10:55:23.894670Z"
    }
   },
   "cell_type": "code",
   "source": [
    "class LogisticRegression:\n",
    "    def __init__(self, step_size=0.01, num_iter=1000):\n",
    "        self.step_size = step_size\n",
    "        self.num_iter = num_iter\n",
    "\n",
    "    def sigmoid(self, z):\n",
    "        return 1 / (1 + np.exp(-z))\n",
    "\n",
    "    def fit(self, X, y):\n",
    "        X = np.c_[np.ones((X.shape[0], 1)), X]\n",
    "        self.w = np.zeros(X.shape[1])\n",
    "\n",
    "        for _ in range(self.num_iter):\n",
    "            y_pred = self.sigmoid(X @ self.w)\n",
    "            gradient = X.T @ (y_pred - y) / X.shape[0]\n",
    "            self.w -= self.step_size * gradient\n",
    "\n",
    "    def predict_proba(self, X):\n",
    "        X = np.c_[np.ones((X.shape[0], 1)), X]\n",
    "        return self.sigmoid(X @ self.w)\n",
    "\n",
    "    def predict(self, X):\n",
    "        return (self.predict_proba(X) >= 0.5).astype(int)"
   ],
   "id": "f9a1e456f6f071f7",
   "outputs": [],
   "execution_count": 205
  },
  {
   "metadata": {
    "ExecuteTime": {
     "end_time": "2025-03-13T10:55:24.015072Z",
     "start_time": "2025-03-13T10:55:23.937372Z"
    }
   },
   "cell_type": "code",
   "source": [
    "model_cfs = LogisticRegression()\n",
    "model_cfs.fit(x_train_cfs, y_train)\n",
    "y_pred_cfs = model_cfs.predict(x_test_cfs)\n"
   ],
   "id": "fa5b41a2ffa3417d",
   "outputs": [],
   "execution_count": 206
  },
  {
   "metadata": {
    "ExecuteTime": {
     "end_time": "2025-03-13T10:55:24.124145Z",
     "start_time": "2025-03-13T10:55:24.044896Z"
    }
   },
   "cell_type": "code",
   "source": [
    "model_naive = LogisticRegression()\n",
    "model_naive.fit(x_train_naive, y_train)\n",
    "y_pred_naive = model_naive.predict(x_test_naive)"
   ],
   "id": "cf790473a83a5b17",
   "outputs": [],
   "execution_count": 207
  },
  {
   "metadata": {
    "ExecuteTime": {
     "end_time": "2025-03-13T10:55:24.161974Z",
     "start_time": "2025-03-13T10:55:24.158358Z"
    }
   },
   "cell_type": "code",
   "source": [
    "accuracy_cfs = metrics.accuracy_score(y_test, y_pred_cfs)\n",
    "accuracy_naive = metrics.accuracy_score(y_test, y_pred_naive)"
   ],
   "id": "b6d2a76ba35ec709",
   "outputs": [],
   "execution_count": 208
  },
  {
   "metadata": {
    "ExecuteTime": {
     "end_time": "2025-03-13T10:55:24.215074Z",
     "start_time": "2025-03-13T10:55:24.203604Z"
    }
   },
   "cell_type": "code",
   "source": "print(metrics.classification_report(y_test, y_pred_cfs))",
   "id": "1e45304c2faf6ad3",
   "outputs": [
    {
     "name": "stdout",
     "output_type": "stream",
     "text": [
      "              precision    recall  f1-score   support\n",
      "\n",
      "           0       0.78      0.82      0.80       125\n",
      "           1       0.63      0.57      0.60        67\n",
      "\n",
      "    accuracy                           0.73       192\n",
      "   macro avg       0.71      0.70      0.70       192\n",
      "weighted avg       0.73      0.73      0.73       192\n",
      "\n"
     ]
    }
   ],
   "execution_count": 209
  },
  {
   "metadata": {
    "ExecuteTime": {
     "end_time": "2025-03-13T10:55:24.273182Z",
     "start_time": "2025-03-13T10:55:24.264255Z"
    }
   },
   "cell_type": "code",
   "source": "print(metrics.classification_report(y_test, y_pred_naive))",
   "id": "411f66361f460253",
   "outputs": [
    {
     "name": "stdout",
     "output_type": "stream",
     "text": [
      "              precision    recall  f1-score   support\n",
      "\n",
      "           0       0.71      0.84      0.77       125\n",
      "           1       0.55      0.36      0.43        67\n",
      "\n",
      "    accuracy                           0.67       192\n",
      "   macro avg       0.63      0.60      0.60       192\n",
      "weighted avg       0.65      0.67      0.65       192\n",
      "\n"
     ]
    }
   ],
   "execution_count": 210
  },
  {
   "metadata": {
    "ExecuteTime": {
     "end_time": "2025-03-13T11:05:19.071918Z",
     "start_time": "2025-03-13T11:05:19.064351Z"
    }
   },
   "cell_type": "code",
   "source": "x_train, x_test, y_train, y_test = train_test_split(x_scaled, y, test_size=0.25, random_state=42, stratify=y)",
   "id": "5b915bd420c2a1ca",
   "outputs": [],
   "execution_count": 218
  },
  {
   "metadata": {
    "ExecuteTime": {
     "end_time": "2025-03-13T11:05:27.495819Z",
     "start_time": "2025-03-13T11:05:27.404344Z"
    }
   },
   "cell_type": "code",
   "source": [
    "model = LogisticRegression()\n",
    "model.fit(x_train, y_train)\n",
    "\n",
    "y_pred = model.predict(x_test)\n",
    "\n",
    "print(metrics.classification_report(y_test, y_pred))"
   ],
   "id": "617dfc1717b98b23",
   "outputs": [
    {
     "name": "stdout",
     "output_type": "stream",
     "text": [
      "              precision    recall  f1-score   support\n",
      "\n",
      "           0       0.76      0.83      0.80       125\n",
      "           1       0.62      0.52      0.57        67\n",
      "\n",
      "    accuracy                           0.72       192\n",
      "   macro avg       0.69      0.68      0.68       192\n",
      "weighted avg       0.72      0.72      0.72       192\n",
      "\n"
     ]
    }
   ],
   "execution_count": 219
  }
 ],
 "metadata": {
  "kernelspec": {
   "display_name": "Python 3",
   "language": "python",
   "name": "python3"
  },
  "language_info": {
   "codemirror_mode": {
    "name": "ipython",
    "version": 2
   },
   "file_extension": ".py",
   "mimetype": "text/x-python",
   "name": "python",
   "nbconvert_exporter": "python",
   "pygments_lexer": "ipython2",
   "version": "2.7.6"
  }
 },
 "nbformat": 4,
 "nbformat_minor": 5
}
